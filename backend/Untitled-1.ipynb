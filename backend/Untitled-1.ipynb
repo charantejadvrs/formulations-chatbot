{
 "cells": [
  {
   "cell_type": "code",
   "execution_count": 1,
   "metadata": {},
   "outputs": [],
   "source": [
    "from chromadb.config import Settings\n",
    "from chromadb.utils import embedding_functions\n",
    "import chromadb\n",
    "\n",
    "from langchain_chroma import Chroma"
   ]
  },
  {
   "cell_type": "code",
   "execution_count": null,
   "metadata": {},
   "outputs": [],
   "source": [
    "# Connect to Chroma DB\n",
    "client = chromadb.PersistentClient(Settings(path=\"path_to_chroma_db\"))\n",
    "collection = client.get_collection(\"your_collection_name\")"
   ]
  },
  {
   "cell_type": "code",
   "execution_count": null,
   "metadata": {},
   "outputs": [],
   "source": [
    "clss = \"class_9\"\n",
    "sub = \"maths\"\n",
    "topic = \"mathematics\"\n",
    "chapter = \"polynomials\""
   ]
  },
  {
   "cell_type": "code",
   "execution_count": null,
   "metadata": {},
   "outputs": [],
   "source": [
    "db3 = Chroma(persist_directory=\"vector_DB/ncert_cw/\"+clss+\"/\"+sub+\"/\"+topic+\"/\"+chapter+\"/\", embedding_function=embeddings)\n",
    "db3.get() \n",
    "\n",
    "vectorstore = Chroma(persist_directory=\"./vector_DB/my_uploads\", embedding_function=embeddings)"
   ]
  }
 ],
 "metadata": {
  "kernelspec": {
   "display_name": "base",
   "language": "python",
   "name": "python3"
  },
  "language_info": {
   "codemirror_mode": {
    "name": "ipython",
    "version": 3
   },
   "file_extension": ".py",
   "mimetype": "text/x-python",
   "name": "python",
   "nbconvert_exporter": "python",
   "pygments_lexer": "ipython3",
   "version": "3.12.7"
  }
 },
 "nbformat": 4,
 "nbformat_minor": 2
}
